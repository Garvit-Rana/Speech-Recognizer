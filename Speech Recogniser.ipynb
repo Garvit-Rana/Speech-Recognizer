{
 "cells": [
  {
   "cell_type": "code",
   "execution_count": 1,
   "metadata": {
    "ExecuteTime": {
     "end_time": "2019-12-31T07:20:02.416214Z",
     "start_time": "2019-12-31T07:20:02.359197Z"
    }
   },
   "outputs": [
    {
     "data": {
      "text/plain": [
       "'3.8.1'"
      ]
     },
     "execution_count": 1,
     "metadata": {},
     "output_type": "execute_result"
    }
   ],
   "source": [
    "import speech_recognition as sr\n",
    "sr.__version__"
   ]
  },
  {
   "cell_type": "code",
   "execution_count": 2,
   "metadata": {
    "ExecuteTime": {
     "end_time": "2019-12-31T07:20:03.958255Z",
     "start_time": "2019-12-31T07:20:03.954274Z"
    }
   },
   "outputs": [],
   "source": [
    "r=sr.Recognizer()"
   ]
  },
  {
   "cell_type": "code",
   "execution_count": 20,
   "metadata": {
    "ExecuteTime": {
     "end_time": "2019-12-31T06:43:42.568878Z",
     "start_time": "2019-12-31T06:43:42.524877Z"
    }
   },
   "outputs": [],
   "source": [
    "h=sr.AudioFile('harvard.wav')\n",
    "with h as sour:\n",
    "    r.adjust_for_ambient_noise(sour,duration=0.5)\n",
    "    audio=r.record(sour,offset=3,duration=4)\n",
    "    aud=r.record(sour,duration=4)"
   ]
  },
  {
   "cell_type": "code",
   "execution_count": 21,
   "metadata": {
    "ExecuteTime": {
     "end_time": "2019-12-31T06:43:47.047987Z",
     "start_time": "2019-12-31T06:43:43.927527Z"
    }
   },
   "outputs": [
    {
     "data": {
      "text/plain": [
       "'ethics he to bring out the order'"
      ]
     },
     "execution_count": 21,
     "metadata": {},
     "output_type": "execute_result"
    }
   ],
   "source": [
    "r.recognize_google(audio)"
   ]
  },
  {
   "cell_type": "code",
   "execution_count": 22,
   "metadata": {
    "ExecuteTime": {
     "end_time": "2019-12-31T06:43:55.265482Z",
     "start_time": "2019-12-31T06:43:52.109678Z"
    }
   },
   "outputs": [
    {
     "data": {
      "text/plain": [
       "'self invest a selfie kurtis'"
      ]
     },
     "execution_count": 22,
     "metadata": {},
     "output_type": "execute_result"
    }
   ],
   "source": [
    "r.recognize_google(aud)"
   ]
  },
  {
   "cell_type": "code",
   "execution_count": 24,
   "metadata": {
    "ExecuteTime": {
     "end_time": "2019-12-31T06:45:27.980690Z",
     "start_time": "2019-12-31T06:45:27.972695Z"
    }
   },
   "outputs": [],
   "source": [
    "mic=sr.Microphone.list_microphone_names()"
   ]
  },
  {
   "cell_type": "code",
   "execution_count": 25,
   "metadata": {
    "ExecuteTime": {
     "end_time": "2019-12-31T06:45:33.356187Z",
     "start_time": "2019-12-31T06:45:33.344205Z"
    }
   },
   "outputs": [
    {
     "data": {
      "text/plain": [
       "['Microsoft Sound Mapper - Input',\n",
       " 'Microphone (Realtek High Defini',\n",
       " 'Microsoft Sound Mapper - Output',\n",
       " 'Speakers (Realtek High Definiti']"
      ]
     },
     "execution_count": 25,
     "metadata": {},
     "output_type": "execute_result"
    }
   ],
   "source": [
    "mic"
   ]
  },
  {
   "cell_type": "code",
   "execution_count": 31,
   "metadata": {
    "ExecuteTime": {
     "end_time": "2019-12-31T07:15:26.992698Z",
     "start_time": "2019-12-31T07:14:58.065958Z"
    }
   },
   "outputs": [],
   "source": [
    "mic=sr.Microphone()\n",
    "with mic as source:\n",
    "    r.adjust_for_ambient_noise(source)\n",
    "    audio=r.listen(source)"
   ]
  },
  {
   "cell_type": "code",
   "execution_count": 32,
   "metadata": {
    "ExecuteTime": {
     "end_time": "2019-12-31T07:15:41.830095Z",
     "start_time": "2019-12-31T07:15:29.567725Z"
    }
   },
   "outputs": [
    {
     "name": "stdout",
     "output_type": "stream",
     "text": [
      "आज मैं गुड़िया के बारे में ऐसी ऐसी चीजें बताने वाला हूं जो कि आज तक आपको पता नहीं होगी वह मैं इसलिए कह रहा हूं क्योंकि वह भी खाना खाने के लिए जा रही है और वह बहुत ही बेकार लड़की है और गुड़िया नहाती हुई नहीं है टाइम पर और गुड़िया बहुत ही बेकार है तो इसको सब इसका बॉयकॉट करो और बहुत गंदी है यह बाय\n"
     ]
    }
   ],
   "source": [
    "#text=r.recognize_google(audio,language='en-US')\n",
    "try:\n",
    "    text=r.recognize_google(audio,language='hi-IN')\n",
    "    print (text)\n",
    "except sr.UnknownValueError: \n",
    "    print(\"Google Speech Recognition could not understand audio\")       \n",
    "except sr.RequestError as e: \n",
    "    print(\"Could not request results from GoogleSpeech Recognition service; {0}\".format(e)) "
   ]
  },
  {
   "cell_type": "code",
   "execution_count": 23,
   "metadata": {
    "ExecuteTime": {
     "end_time": "2019-12-31T08:49:52.823980Z",
     "start_time": "2019-12-31T08:49:50.316920Z"
    }
   },
   "outputs": [],
   "source": [
    "from gtts import gTTS\n",
    "import os\n",
    "tetxt=\"मैं जा रहा हूँ\"\n",
    "myobj=gTTS(text=tetxt,lang=\"hi\",slow=False)"
   ]
  },
  {
   "cell_type": "code",
   "execution_count": 24,
   "metadata": {
    "ExecuteTime": {
     "end_time": "2019-12-31T08:49:55.571811Z",
     "start_time": "2019-12-31T08:49:54.379380Z"
    }
   },
   "outputs": [
    {
     "data": {
      "text/plain": [
       "1"
      ]
     },
     "execution_count": 24,
     "metadata": {},
     "output_type": "execute_result"
    }
   ],
   "source": [
    "myobj.save(\"sam.mp3\")\n",
    "os.system(\"mpg321 sam.mp3\")"
   ]
  },
  {
   "cell_type": "code",
   "execution_count": 1,
   "metadata": {
    "ExecuteTime": {
     "end_time": "2019-12-31T08:38:02.716333Z",
     "start_time": "2019-12-31T08:38:02.708327Z"
    }
   },
   "outputs": [],
   "source": [
    "import pyttsx3  \n"
   ]
  },
  {
   "cell_type": "code",
   "execution_count": 30,
   "metadata": {
    "ExecuteTime": {
     "end_time": "2019-12-31T08:56:42.427504Z",
     "start_time": "2019-12-31T08:56:39.883497Z"
    }
   },
   "outputs": [],
   "source": [
    "engine=pyttsx3.init()\n",
    "#engine.setProperty('rate',100)\n",
    "engine.setProperty('volume',1.0)\n",
    "voices = engine.getProperty('voices')       #getting details of current voice\n",
    "engine.setProperty('voice', voices[1].id)   #changing index, changes voices. 1 for female\n",
    "engine.say(\"I love you\")\n",
    "engine.runAndWait()\n",
    "engine.stop()"
   ]
  },
  {
   "cell_type": "code",
   "execution_count": null,
   "metadata": {},
   "outputs": [],
   "source": []
  },
  {
   "cell_type": "code",
   "execution_count": null,
   "metadata": {},
   "outputs": [],
   "source": []
  },
  {
   "cell_type": "code",
   "execution_count": null,
   "metadata": {},
   "outputs": [],
   "source": []
  }
 ],
 "metadata": {
  "hide_input": false,
  "kernelspec": {
   "display_name": "Python 3",
   "language": "python",
   "name": "python3"
  },
  "language_info": {
   "codemirror_mode": {
    "name": "ipython",
    "version": 3
   },
   "file_extension": ".py",
   "mimetype": "text/x-python",
   "name": "python",
   "nbconvert_exporter": "python",
   "pygments_lexer": "ipython3",
   "version": "3.6.5"
  },
  "toc": {
   "base_numbering": 1,
   "nav_menu": {},
   "number_sections": true,
   "sideBar": true,
   "skip_h1_title": false,
   "title_cell": "Table of Contents",
   "title_sidebar": "Contents",
   "toc_cell": false,
   "toc_position": {},
   "toc_section_display": true,
   "toc_window_display": false
  }
 },
 "nbformat": 4,
 "nbformat_minor": 2
}
